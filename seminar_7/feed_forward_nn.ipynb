{
 "cells": [
  {
   "cell_type": "markdown",
   "metadata": {},
   "source": [
    "# Feed Forward Neural Networks\n",
    "\n",
    "## Reading\n",
    "1. Goodfellow. Deep Learning\n",
    "1. https://pytorch.org/tutorials/\n",
    "\n",
    "## Outline\n",
    "\n",
    "1. General architecture\n",
    "1. Neuron\n",
    "1. Layers\n",
    "1. Activation functions\n",
    "1. Losses\n",
    "1. Regularization\n",
    "1. Weight Initialization\n",
    "1. Universal Approximators"
   ]
  },
  {
   "cell_type": "markdown",
   "metadata": {},
   "source": [
    "## General Architecture\n",
    "\n",
    "NN as a composition of functions\n",
    "\n",
    "$$ F(x) = f_{w_n} x f_{w_{n-1}} x .. f_{w_1} (x) $$\n",
    "\n",
    "<img src=\"images/ff.jpg\" style=\"height:300px\">"
   ]
  },
  {
   "cell_type": "markdown",
   "metadata": {},
   "source": [
    "## Neuron\n",
    "\n",
    "$$F(x)_i = \\sum_{i=1}^N f(w_i^T x + b_i)$$\n",
    "\n",
    "<img src=\"images/neuron.png\" style=\"height:300px\">"
   ]
  },
  {
   "cell_type": "markdown",
   "metadata": {},
   "source": [
    "## Layers\n",
    "\n",
    "<img src=\"images/weights.png\" style=\"height:600px\">"
   ]
  },
  {
   "cell_type": "markdown",
   "metadata": {},
   "source": [
    "## Activation fuctions\n",
    "\n",
    "Why we do not use linear activations?\n",
    "\n",
    "<img src=\"images/act.png\" style=\"height:600px\">"
   ]
  },
  {
   "cell_type": "markdown",
   "metadata": {},
   "source": [
    "## Losses\n",
    "\n",
    "For now, we consider the same losses we already learned:\n",
    "1. Crossentropy loss for classification\n",
    "1. MSE loss for regression"
   ]
  },
  {
   "cell_type": "markdown",
   "metadata": {},
   "source": [
    "## Regularization in neural networks\n",
    "\n",
    "1. $L_p$ norm regularization on weights (usually avoided)  \n",
    "1. Early stopping. Remember, that it is equivalent to $L_2$ norm regularization on weights  \n",
    "1. Data augmentation. Create new samples from the same domain to increase size of your dataset. Remember generalization bounds.  \n",
    "1. Dropout. Drop random nodes in a layer with probability $p$    \n",
    "\n",
    "\n",
    "\n",
    "### Dropout\n",
    "\n",
    "Theere are 2 interpretations for dropout:  \n",
    "1. \"Bagging\" over neural networks  \n",
    "1. Avoid feature coadaptation  \n",
    "\n",
    "Difference between bagging and dropout:\n",
    "\n",
    "$ p(y|x) = \\frac 1 K \\sum_{i=1}^K p_i(y|x)$ for bagging  \n",
    "\n",
    "$ p(y|x) = \\sum_{\\mu} p(\\mu) p(y | x, \\mu)$ for dropout, where $\\mu$ is mask on weights. There is an exponential number of masks for fixed number of weights, that makes dropout more effective than explicit bagging.  \n",
    "\n",
    "\n",
    "<img src=\"images/drop.png\" style=\"height:300px\">\n"
   ]
  },
  {
   "cell_type": "markdown",
   "metadata": {},
   "source": [
    "## Training neural network, SGD\n",
    "\n",
    "\n",
    "### Vanilla SGD\n",
    "\n",
    "<img src=\"images/sgd.gif\" style=\"height:300px\">\n",
    "\n",
    "\n",
    "### SGD with momentum\n",
    "\n",
    "$$ v_t = \\gamma v_{t-1} + \\eta \\nabla_{\\theta} J(\\theta)$$\n",
    "$$ \\theta_t = \\theta_{t-1} - v_t $$\n",
    "\n",
    "\n",
    "### SGD with nesterov momentum\n",
    "\n",
    "$$ v_t = \\gamma v_{t-1} + \\eta \\nabla_{\\theta} J(\\theta - \\gamma v_{t-1})$$\n",
    "$$ \\theta_t = \\theta_{t-1} - v_t $$\n",
    "\n",
    "\n",
    "<img src=\"images/nesterov.jpeg\" style=\"height:300px\">\n",
    "\n",
    "\n",
    "\n",
    "### RmsProp\n",
    "\n",
    "$$ g_t = \\nabla_{\\theta} J(\\theta) $$\n",
    "$$  E[g^2]_t = \\alpha E[g^2]_{t-1} + (1-\\alpha) g^2_t $$\n",
    "$$  \\theta_t = \\theta_{t-1} - \\frac {\\eta} {\\sqrt {E[g^2]_t} + \\epsilon} g_t $$\n",
    "\n",
    "\n",
    "###  Adam\n",
    "\n",
    "\n",
    "$$ g_t = \\nabla_{\\theta} J(\\theta) $$\n",
    "\n",
    "$$ m_t = \\beta_1 m_{t-1} + (1-\\beta_1) g_t $$\n",
    "$$ v_t = \\beta_2 v_{t-1} + (1-\\beta_2) g^2_t $$\n",
    "$$ \\hat m_t = \\frac {m_t} {1 - \\beta_1^t} $$\n",
    "$$ \\hat v_t = \\frac {v_t} {1 - \\beta_2^t}  $$\n",
    "$$  \\theta_t = \\theta_{t-1} - \\frac {\\eta} {\\sqrt {\\hat v_t} + \\epsilon} \\hat m_t $$\n",
    "\n",
    "\n",
    "<img src=\"images/comparison.gif\" style=\"height:400px\">"
   ]
  },
  {
   "cell_type": "markdown",
   "metadata": {},
   "source": [
    "## Weight initialization\n",
    "\n",
    "As we train out neural network with SGD, it is important to have good initial point to start.  \n",
    "Usually use use:\n",
    "1. uniform distribution in [-1,1]   \n",
    "1. standart normal distribution  \n",
    "1. xavier distribution (discuss later, in conv networks)  \n",
    "\n",
    "Why we use distributions centered around zero?  \n",
    "How it is connected with activation functions?  \n",
    "\n",
    "## Learning schedule\n",
    "\n",
    "How to adjust gradient step?\n",
    "\n",
    "1. Reduce on plato by some factor  \n",
    "1. Reduce on each iteration  \n",
    "....  \n",
    "find more variants in torch.optim.lr_schedule"
   ]
  },
  {
   "cell_type": "markdown",
   "metadata": {},
   "source": [
    "## Universal Appoximators\n",
    "\n",
    "Universal Appoximation theorem\n",
    "\"Feed-forward network with a single hidden layer containing a finite number of neurons can approximate continuous functions on compact subsets of $R^n$, under mild assumptions on the activation function\"\n",
    "\n",
    "### Shallow networks\n",
    "\n",
    "Though we can approximate any function with just one hidden layer, it need needs exponential number of nodes in a layer\n",
    "\n",
    "### Feature representation\n",
    "\n",
    "In practice, features learned on deeper layers correspond to more abstract object attributes.  "
   ]
  },
  {
   "cell_type": "code",
   "execution_count": 52,
   "metadata": {},
   "outputs": [],
   "source": [
    "## Demo1, MNIST\n",
    "\n",
    "import numpy as np\n",
    "import matplotlib.pyplot as plt\n",
    "\n",
    "%matplotlib inline\n",
    "\n",
    "import pandas as pd\n",
    "import torch as tt\n",
    "import torch.nn as nn\n",
    "import torch.optim as optim\n",
    "import torch.nn.functional as F\n",
    "\n",
    "from torch.utils.data import DataLoader\n",
    "from torchvision import datasets, transforms\n",
    "from tqdm import tqdm_notebook\n",
    "from tensorboardX import SummaryWriter"
   ]
  },
  {
   "cell_type": "code",
   "execution_count": 37,
   "metadata": {},
   "outputs": [],
   "source": [
    "class Demo1(nn.Module):\n",
    "    \n",
    "    def __init__(self, p):\n",
    "        super(Demo1, self).__init__()\n",
    "        self.drop = nn.Dropout(p)\n",
    "        self.fc1 = nn.Linear(28*28, 100)\n",
    "        \n",
    "        # out dim = 10 because we have only 10 digits\n",
    "        self.fc2 = nn.Linear(100, 10)\n",
    "\n",
    "    def forward(self, x):\n",
    "        \n",
    "        # flatten\n",
    "        x = x.view(x.size(0), -1)\n",
    "        \n",
    "        # 1st layer\n",
    "        x = self.fc1(x)\n",
    "        x = F.elu(x)\n",
    "        \n",
    "        # dropout layer\n",
    "        x = self.drop(x)\n",
    "        \n",
    "        # 2nd layer\n",
    "        x = self.fc2(x)\n",
    "        return x"
   ]
  },
  {
   "cell_type": "code",
   "execution_count": 85,
   "metadata": {},
   "outputs": [],
   "source": [
    "def train_nn(model, train_loader, val_loader, n_batches, optimizer, criterion, n_epochs=20, \n",
    "             device=tt.device('cpu'),\n",
    "             mu=0.9, \n",
    "             logdir=None,\n",
    "             checkdir=None,\n",
    "             reduce_lr_patience=2,\n",
    "             early_stopping=4,\n",
    "             verbose=True\n",
    "            ):\n",
    "    if logdir:\n",
    "        sw = SummaryWriter(logdir)\n",
    "    else:\n",
    "        sw = None\n",
    "        \n",
    "    early_stopping_epochs = 0\n",
    "    prev_loss = 100500\n",
    "    history = []\n",
    "    \n",
    "    if reduce_lr_patience > 0:\n",
    "        scheduler = optim.lr_scheduler.ReduceLROnPlateau(optimizer, patience=reduce_lr_patience, verbose=verbose)\n",
    "    \n",
    "    for epoch in range(n_epochs):\n",
    "        \n",
    "        model.train()\n",
    "        running_loss = 0\n",
    "        \n",
    "        if verbose:\n",
    "            batch_iter = tqdm_notebook(enumerate(train_loader), total=n_batches, desc='epoch %d' % (epoch + 1), leave=True)\n",
    "        else:\n",
    "            batch_iter = enumerate(train_loader)\n",
    "            \n",
    "        for i, (X, y) in batch_iter:\n",
    "            \n",
    "            X = X.to(device)\n",
    "            y = y.to(device)\n",
    "            \n",
    "            optimizer.zero_grad()\n",
    "            \n",
    "            prediction = model(X)\n",
    "            \n",
    "            loss = criterion(prediction, y)\n",
    "            \n",
    "            loss.backward()\n",
    "            optimizer.step()\n",
    "            \n",
    "            current_loss = loss.data.detach().item()\n",
    "            running_loss = running_loss * mu + current_loss * (1-mu)\n",
    "            \n",
    "            if verbose:\n",
    "                batch_iter.set_postfix(loss='%.4f' % running_loss)\n",
    "                \n",
    "            niter = epoch * n_batches + i\n",
    "            \n",
    "            if sw:\n",
    "                sw.add_scalar('Train/Loss', current_loss, niter)\n",
    "                \n",
    "                \n",
    "        # validation on epoch\n",
    "        model.eval()\n",
    "        val_loss = []\n",
    "\n",
    "        with tt.no_grad():\n",
    "            for X, y in val_loader:\n",
    "                X = X.to(device)\n",
    "                y = y.to(device)\n",
    "\n",
    "                prediction = model(X)\n",
    "                loss = criterion(prediction, y)\n",
    "                loss = loss.data.detach().item()\n",
    "                val_loss.append( loss )\n",
    "\n",
    "        val_loss = np.mean(val_loss)\n",
    "\n",
    "        if verbose:\n",
    "            print('validation loss=%.4f' % val_loss)\n",
    "\n",
    "        if sw:\n",
    "            sw.add_scalar('Validation/Loss', val_loss, epoch)\n",
    "\n",
    "        if reduce_lr_patience > 0:\n",
    "            scheduler.step(val_loss)\n",
    "\n",
    "        if checkdir:\n",
    "            tt.save(model.state_dict(), checkdir + 'epoch_%d_val_loss_%f' % (epoch, val_loss))\n",
    "\n",
    "\n",
    "        history.append({\n",
    "            'epoch': epoch,\n",
    "            'train_loss': running_loss,\n",
    "            'val_loss': val_loss,\n",
    "        })\n",
    "\n",
    "        if early_stopping > 0:\n",
    "            if val_loss > prev_loss:\n",
    "                early_stopping_epochs = 1\n",
    "            else:\n",
    "                early_stopping_epochs = 0\n",
    "\n",
    "            if early_stopping_epochs >= early_stopping:\n",
    "                if verbose:\n",
    "                    print('Early stopping, best val_loss=%.4f' % prev_loss)\n",
    "                break\n",
    "\n",
    "            prev_loss = min(prev_loss, val_loss)\n",
    "\n",
    "    return pd.DataFrame(history)"
   ]
  },
  {
   "cell_type": "code",
   "execution_count": 86,
   "metadata": {},
   "outputs": [],
   "source": [
    "batch_size = 32\n",
    "\n",
    "train_loader = DataLoader(\n",
    "    datasets.MNIST('./', train=True, download=True,\n",
    "                   transform=transforms.Compose([\n",
    "                       transforms.ToTensor(),\n",
    "                       transforms.Normalize((0.1307,), (0.3081,))\n",
    "                   ])),\n",
    "    batch_size=batch_size, shuffle=True)\n",
    "\n",
    "\n",
    "val_loader = DataLoader(\n",
    "    datasets.MNIST('./', train=False, transform=transforms.Compose([\n",
    "                       transforms.ToTensor(),\n",
    "                       transforms.Normalize((0.1307,), (0.3081,))\n",
    "                   ])),\n",
    "    batch_size=batch_size, shuffle=True)"
   ]
  },
  {
   "cell_type": "code",
   "execution_count": 87,
   "metadata": {},
   "outputs": [
    {
     "data": {
      "text/plain": [
       "<matplotlib.image.AxesImage at 0x12e881ef0>"
      ]
     },
     "execution_count": 87,
     "metadata": {},
     "output_type": "execute_result"
    },
    {
     "data": {
      "image/png": "[encoded data removed]",
      "text/plain": [
       "<Figure size 432x288 with 1 Axes>"
      ]
     },
     "metadata": {
      "needs_background": "light"
     },
     "output_type": "display_data"
    }
   ],
   "source": [
    "sample = train_loader.dataset[0][0]\n",
    "sample = np.squeeze(sample)\n",
    "plt.imshow(sample)"
   ]
  },
  {
   "cell_type": "code",
   "execution_count": 91,
   "metadata": {},
   "outputs": [],
   "source": [
    "dropout_rate = 0\n",
    "\n",
    "\n",
    "device = tt.device('cpu')\n",
    "\n",
    "model = Demo1(dropout_rate).to(device)\n",
    "optimizer = optim.SGD(model.parameters(), lr=0.01, momentum=0.9)\n",
    "\n",
    "criterion = nn.CrossEntropyLoss()\n",
    "\n",
    "n_batches = int(np.ceil(len(train_loader.dataset) / batch_size))"
   ]
  },
  {
   "cell_type": "code",
   "execution_count": 92,
   "metadata": {},
   "outputs": [
    {
     "name": "stdout",
     "output_type": "stream",
     "text": [
      "mkdir: mkdir: File exists\r\n"
     ]
    }
   ],
   "source": [
    "!rm -rf log_demo1\n",
    "!rm -rf check_demo1\n",
    "!mkdir mkdir check_demo1"
   ]
  },
  {
   "cell_type": "code",
   "execution_count": 93,
   "metadata": {},
   "outputs": [
    {
     "data": {
      "application/vnd.jupyter.widget-view+json": {
       "model_id": "ea4185f805cb4568b775fcb323a44936",
       "version_major": 2,
       "version_minor": 0
      },
      "text/plain": [
       "HBox(children=(IntProgress(value=0, description='epoch 1', max=1875, style=ProgressStyle(description_width='in…"
      ]
     },
     "metadata": {},
     "output_type": "display_data"
    },
    {
     "name": "stdout",
     "output_type": "stream",
     "text": [
      "validation loss=0.1219\n"
     ]
    },
    {
     "data": {
      "application/vnd.jupyter.widget-view+json": {
       "model_id": "97823f407d494137a2d27582f623d111",
       "version_major": 2,
       "version_minor": 0
      },
      "text/plain": [
       "HBox(children=(IntProgress(value=0, description='epoch 2', max=1875, style=ProgressStyle(description_width='in…"
      ]
     },
     "metadata": {},
     "output_type": "display_data"
    },
    {
     "name": "stdout",
     "output_type": "stream",
     "text": [
      "validation loss=0.0995\n"
     ]
    },
    {
     "data": {
      "application/vnd.jupyter.widget-view+json": {
       "model_id": "34a44c8514724f1f9e1bf23bba6fe71a",
       "version_major": 2,
       "version_minor": 0
      },
      "text/plain": [
       "HBox(children=(IntProgress(value=0, description='epoch 3', max=1875, style=ProgressStyle(description_width='in…"
      ]
     },
     "metadata": {},
     "output_type": "display_data"
    },
    {
     "name": "stdout",
     "output_type": "stream",
     "text": [
      "validation loss=0.0848\n"
     ]
    },
    {
     "data": {
      "application/vnd.jupyter.widget-view+json": {
       "model_id": "7570f937c38f465f89e51753386caab4",
       "version_major": 2,
       "version_minor": 0
      },
      "text/plain": [
       "HBox(children=(IntProgress(value=0, description='epoch 4', max=1875, style=ProgressStyle(description_width='in…"
      ]
     },
     "metadata": {},
     "output_type": "display_data"
    },
    {
     "name": "stdout",
     "output_type": "stream",
     "text": [
      "validation loss=0.0805\n"
     ]
    },
    {
     "data": {
      "application/vnd.jupyter.widget-view+json": {
       "model_id": "dbdf8fc610a044288604854619305ec7",
       "version_major": 2,
       "version_minor": 0
      },
      "text/plain": [
       "HBox(children=(IntProgress(value=0, description='epoch 5', max=1875, style=ProgressStyle(description_width='in…"
      ]
     },
     "metadata": {},
     "output_type": "display_data"
    },
    {
     "name": "stdout",
     "output_type": "stream",
     "text": [
      "validation loss=0.0755\n"
     ]
    },
    {
     "data": {
      "application/vnd.jupyter.widget-view+json": {
       "model_id": "d4aa71d82fe740efa4b7531267a2f536",
       "version_major": 2,
       "version_minor": 0
      },
      "text/plain": [
       "HBox(children=(IntProgress(value=0, description='epoch 6', max=1875, style=ProgressStyle(description_width='in…"
      ]
     },
     "metadata": {},
     "output_type": "display_data"
    },
    {
     "name": "stdout",
     "output_type": "stream",
     "text": [
      "validation loss=0.0736\n"
     ]
    },
    {
     "data": {
      "application/vnd.jupyter.widget-view+json": {
       "model_id": "790d4530873a4e9eb4ccaa9bcff3302a",
       "version_major": 2,
       "version_minor": 0
      },
      "text/plain": [
       "HBox(children=(IntProgress(value=0, description='epoch 7', max=1875, style=ProgressStyle(description_width='in…"
      ]
     },
     "metadata": {},
     "output_type": "display_data"
    },
    {
     "name": "stdout",
     "output_type": "stream",
     "text": [
      "validation loss=0.0770\n"
     ]
    },
    {
     "data": {
      "application/vnd.jupyter.widget-view+json": {
       "model_id": "f810c57fec7e4ee895763650feb1fd18",
       "version_major": 2,
       "version_minor": 0
      },
      "text/plain": [
       "HBox(children=(IntProgress(value=0, description='epoch 8', max=1875, style=ProgressStyle(description_width='in…"
      ]
     },
     "metadata": {},
     "output_type": "display_data"
    },
    {
     "name": "stdout",
     "output_type": "stream",
     "text": [
      "validation loss=0.0768\n"
     ]
    },
    {
     "data": {
      "application/vnd.jupyter.widget-view+json": {
       "model_id": "f030f5e670b04530af8652e3be4d38cd",
       "version_major": 2,
       "version_minor": 0
      },
      "text/plain": [
       "HBox(children=(IntProgress(value=0, description='epoch 9', max=1875, style=ProgressStyle(description_width='in…"
      ]
     },
     "metadata": {},
     "output_type": "display_data"
    },
    {
     "name": "stdout",
     "output_type": "stream",
     "text": [
      "validation loss=0.0758\n",
      "Epoch     8: reducing learning rate of group 0 to 1.0000e-03.\n"
     ]
    },
    {
     "data": {
      "application/vnd.jupyter.widget-view+json": {
       "model_id": "c3ee9fcbe53d4cc9b5651b0b60985801",
       "version_major": 2,
       "version_minor": 0
      },
      "text/plain": [
       "HBox(children=(IntProgress(value=0, description='epoch 10', max=1875, style=ProgressStyle(description_width='i…"
      ]
     },
     "metadata": {},
     "output_type": "display_data"
    },
    {
     "name": "stdout",
     "output_type": "stream",
     "text": [
      "validation loss=0.0695\n"
     ]
    },
    {
     "data": {
      "text/html": [
       "<div>\n",
       "<style scoped>\n",
       "    .dataframe tbody tr th:only-of-type {\n",
       "        vertical-align: middle;\n",
       "    }\n",
       "\n",
       "    .dataframe tbody tr th {\n",
       "        vertical-align: top;\n",
       "    }\n",
       "\n",
       "    .dataframe thead th {\n",
       "        text-align: right;\n",
       "    }\n",
       "</style>\n",
       "<table border=\"1\" class=\"dataframe\">\n",
       "  <thead>\n",
       "    <tr style=\"text-align: right;\">\n",
       "      <th></th>\n",
       "      <th>epoch</th>\n",
       "      <th>train_loss</th>\n",
       "      <th>val_loss</th>\n",
       "    </tr>\n",
       "  </thead>\n",
       "  <tbody>\n",
       "    <tr>\n",
       "      <th>0</th>\n",
       "      <td>0</td>\n",
       "      <td>0.148228</td>\n",
       "      <td>0.121885</td>\n",
       "    </tr>\n",
       "    <tr>\n",
       "      <th>1</th>\n",
       "      <td>1</td>\n",
       "      <td>0.067759</td>\n",
       "      <td>0.099504</td>\n",
       "    </tr>\n",
       "    <tr>\n",
       "      <th>2</th>\n",
       "      <td>2</td>\n",
       "      <td>0.050941</td>\n",
       "      <td>0.084790</td>\n",
       "    </tr>\n",
       "    <tr>\n",
       "      <th>3</th>\n",
       "      <td>3</td>\n",
       "      <td>0.075420</td>\n",
       "      <td>0.080528</td>\n",
       "    </tr>\n",
       "    <tr>\n",
       "      <th>4</th>\n",
       "      <td>4</td>\n",
       "      <td>0.051296</td>\n",
       "      <td>0.075457</td>\n",
       "    </tr>\n",
       "    <tr>\n",
       "      <th>5</th>\n",
       "      <td>5</td>\n",
       "      <td>0.041363</td>\n",
       "      <td>0.073576</td>\n",
       "    </tr>\n",
       "    <tr>\n",
       "      <th>6</th>\n",
       "      <td>6</td>\n",
       "      <td>0.032656</td>\n",
       "      <td>0.077027</td>\n",
       "    </tr>\n",
       "    <tr>\n",
       "      <th>7</th>\n",
       "      <td>7</td>\n",
       "      <td>0.030780</td>\n",
       "      <td>0.076847</td>\n",
       "    </tr>\n",
       "    <tr>\n",
       "      <th>8</th>\n",
       "      <td>8</td>\n",
       "      <td>0.004298</td>\n",
       "      <td>0.075766</td>\n",
       "    </tr>\n",
       "    <tr>\n",
       "      <th>9</th>\n",
       "      <td>9</td>\n",
       "      <td>0.013028</td>\n",
       "      <td>0.069466</td>\n",
       "    </tr>\n",
       "  </tbody>\n",
       "</table>\n",
       "</div>"
      ],
      "text/plain": [
       "   epoch  train_loss  val_loss\n",
       "0      0    0.148228  0.121885\n",
       "1      1    0.067759  0.099504\n",
       "2      2    0.050941  0.084790\n",
       "3      3    0.075420  0.080528\n",
       "4      4    0.051296  0.075457\n",
       "5      5    0.041363  0.073576\n",
       "6      6    0.032656  0.077027\n",
       "7      7    0.030780  0.076847\n",
       "8      8    0.004298  0.075766\n",
       "9      9    0.013028  0.069466"
      ]
     },
     "execution_count": 93,
     "metadata": {},
     "output_type": "execute_result"
    }
   ],
   "source": [
    "train_nn(model, train_loader, val_loader, n_batches, optimizer, criterion, \n",
    "         n_epochs=10,\n",
    "         device=device,\n",
    "         logdir='log_demo1',\n",
    "         checkdir='check_demo1',\n",
    "        )"
   ]
  },
  {
   "cell_type": "code",
   "execution_count": null,
   "metadata": {},
   "outputs": [],
   "source": []
  },
  {
   "cell_type": "code",
   "execution_count": null,
   "metadata": {},
   "outputs": [],
   "source": []
  }
 ],
 "metadata": {
  "kernelspec": {
   "display_name": "Python 3",
   "language": "python",
   "name": "python3"
  },
  "language_info": {
   "codemirror_mode": {
    "name": "ipython",
    "version": 3
   },
   "file_extension": ".py",
   "mimetype": "text/x-python",
   "name": "python",
   "nbconvert_exporter": "python",
   "pygments_lexer": "ipython3",
   "version": "3.7.2"
  }
 },
 "nbformat": 4,
 "nbformat_minor": 2
}
