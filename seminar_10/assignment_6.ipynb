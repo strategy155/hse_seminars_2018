{
 "cells": [
  {
   "cell_type": "markdown",
   "metadata": {},
   "source": [
    "# Assignment 6\n",
    "\n",
    "Develop RNN model in pytorch to solve the following problem:  \n",
    "    \n",
    "1. Detect sarcasm \n",
    "Data from https://www.kaggle.com/sherinclaudia/sarcastic-comments-on-reddit  \n",
    "Your quality metric = accuracy  \n",
    "Randomly select 20% of your data for test set. You can use it only for final perfomance estimation.   \n",
    " \n",
    "\n",
    "Remember, you can use GPU resourses in kaggle kernels."
   ]
  },
  {
   "cell_type": "code",
   "execution_count": null,
   "metadata": {},
   "outputs": [],
   "source": []
  }
 ],
 "metadata": {
  "kernelspec": {
   "display_name": "Python 3",
   "language": "python",
   "name": "python3"
  },
  "language_info": {
   "codemirror_mode": {
    "name": "ipython",
    "version": 3
   },
   "file_extension": ".py",
   "mimetype": "text/x-python",
   "name": "python",
   "nbconvert_exporter": "python",
   "pygments_lexer": "ipython3",
   "version": "3.6.8"
  }
 },
 "nbformat": 4,
 "nbformat_minor": 2
}
