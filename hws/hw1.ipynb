{
 "cells": [
  {
   "cell_type": "markdown",
   "metadata": {},
   "source": [
    "# Assignment 1"
   ]
  },
  {
   "cell_type": "markdown",
   "metadata": {},
   "source": [
    "1. Реализовать Блум фильтр с помощью битового массива.\n",
    "Например, вы можете использовать [Битовые операции](https://wiki.python.org/moin/BitwiseOperators) или библиотеку bitarray.\n",
    "\n",
    "2. Провести численный эксперимент при false postive rate = 0.05, и количестве объектов S = 1 000 000.\n",
    "Убедится, полученные на семинаре оптимальные параметры фильтра позволяют достичь заявленного false positive rate.\n",
    "Посчитать  $\\frac {\\epsilon - \\hat \\epsilon} \\epsilon$, где $\\hat \\epsilon$ - ваша экспериментальная оценка false positive rate. В качестве объектов используйте строки."
   ]
  },
  {
   "cell_type": "markdown",
   "metadata": {},
   "source": [
    "Для начала импортируем библиотеку bitarray, и прочие вспомогательные библиотеки."
   ]
  },
  {
   "cell_type": "code",
   "execution_count": 2,
   "metadata": {},
   "outputs": [],
   "source": [
    "import bitarray\n",
    "import math"
   ]
  },
  {
   "cell_type": "markdown",
   "metadata": {},
   "source": [
    "Создадим битовый массив, приспособленный для небольшого количества объектов, для тестирования функционала. Выберем количество объектов, и посчитаем оптимальный размер и количество хэш функций для заданного false positive rate'а."
   ]
  },
  {
   "cell_type": "code",
   "execution_count": 3,
   "metadata": {},
   "outputs": [],
   "source": [
    "OBJECTS_COUNT = 10\n",
    "FALSE_POSITIVE_RATE = 0.05\n",
    "\n",
    "\n",
    "bitarray_length = int(( 1 / (math.pow(math.log(2),2)) ) * OBJECTS_COUNT * (math.log(1 / FALSE_POSITIVE_RATE)))\n",
    "hash_count = int((bitarray_length / OBJECTS_COUNT) * math.log(2))"
   ]
  },
  {
   "cell_type": "markdown",
   "metadata": {},
   "source": [
    "Посмотрим на результат."
   ]
  },
  {
   "cell_type": "code",
   "execution_count": 4,
   "metadata": {},
   "outputs": [
    {
     "data": {
      "text/plain": [
       "'Длина массива : 62, количество хэш функций: 4'"
      ]
     },
     "execution_count": 4,
     "metadata": {},
     "output_type": "execute_result"
    }
   ],
   "source": [
    "f\"Длина массива : {bitarray_length}, количество хэш функций: {hash_count}\"  "
   ]
  },
  {
   "cell_type": "markdown",
   "metadata": {},
   "source": [
    "Инициализируем массив"
   ]
  },
  {
   "cell_type": "code",
   "execution_count": 5,
   "metadata": {},
   "outputs": [],
   "source": [
    "bit_array_test = bitarray.bitarray(bitarray_length)"
   ]
  },
  {
   "cell_type": "markdown",
   "metadata": {},
   "source": [
    "Проверим."
   ]
  },
  {
   "cell_type": "code",
   "execution_count": 6,
   "metadata": {},
   "outputs": [
    {
     "data": {
      "text/plain": [
       "bitarray('00000000000110001011011111100101101001010000000100000000000000')"
      ]
     },
     "execution_count": 6,
     "metadata": {},
     "output_type": "execute_result"
    }
   ],
   "source": [
    "bit_array_test"
   ]
  },
  {
   "cell_type": "markdown",
   "metadata": {},
   "source": [
    "Обнулим массив, для дальнейшего тестирования."
   ]
  },
  {
   "cell_type": "code",
   "execution_count": 7,
   "metadata": {},
   "outputs": [],
   "source": [
    "bit_array_test.setall(False)"
   ]
  },
  {
   "cell_type": "markdown",
   "metadata": {},
   "source": [
    "Посмотрим, что получилось"
   ]
  },
  {
   "cell_type": "code",
   "execution_count": 8,
   "metadata": {},
   "outputs": [
    {
     "data": {
      "text/plain": [
       "bitarray('00000000000000000000000000000000000000000000000000000000000000')"
      ]
     },
     "execution_count": 8,
     "metadata": {},
     "output_type": "execute_result"
    }
   ],
   "source": [
    "bit_array_test"
   ]
  },
  {
   "cell_type": "markdown",
   "metadata": {},
   "source": [
    "Для хэширования используем murmurhash3 (библиотека mmh3)."
   ]
  },
  {
   "cell_type": "code",
   "execution_count": 9,
   "metadata": {},
   "outputs": [],
   "source": [
    "import mmh3"
   ]
  },
  {
   "cell_type": "markdown",
   "metadata": {},
   "source": [
    "Проверим сгенерированный хеш."
   ]
  },
  {
   "cell_type": "code",
   "execution_count": 10,
   "metadata": {},
   "outputs": [
    {
     "data": {
      "text/plain": [
       "-156908512"
      ]
     },
     "execution_count": 10,
     "metadata": {},
     "output_type": "execute_result"
    }
   ],
   "source": [
    "TEST_STRING = 'foo'\n",
    "\n",
    "mmh3.hash(TEST_STRING)"
   ]
  },
  {
   "cell_type": "markdown",
   "metadata": {},
   "source": [
    "Мы видим, что результатом может являться любое 32-битное число, так что нам нужно спроецировать результаты хеширования на интервал, заданный размером фильтра. "
   ]
  },
  {
   "cell_type": "markdown",
   "metadata": {},
   "source": [
    "Для начала сгенерируем положительный хэш."
   ]
  },
  {
   "cell_type": "code",
   "execution_count": 11,
   "metadata": {},
   "outputs": [],
   "source": [
    "test_unsigned_hash = mmh3.hash(TEST_STRING, signed = False)"
   ]
  },
  {
   "cell_type": "markdown",
   "metadata": {},
   "source": [
    "Далее спроецируем его на интервал (предполагая что распределение мурмурхэша примерно равномерное). Для этого напишем функцию проецирования."
   ]
  },
  {
   "cell_type": "code",
   "execution_count": 12,
   "metadata": {},
   "outputs": [],
   "source": [
    "def project_hash_to_buckets(hash_result, bucket_count):\n",
    "    percentage = hash_result / float(2**32)\n",
    "    for bucket in range (0,  bucket_count):\n",
    "        if bucket / float(bucket_count) <= percentage and (bucket+1) / float(bucket_count) > percentage:\n",
    "            return bucket\n",
    "    return bucket_count"
   ]
  },
  {
   "cell_type": "markdown",
   "metadata": {},
   "source": [
    "Проверим."
   ]
  },
  {
   "cell_type": "code",
   "execution_count": 13,
   "metadata": {},
   "outputs": [
    {
     "data": {
      "text/plain": [
       "59"
      ]
     },
     "execution_count": 13,
     "metadata": {},
     "output_type": "execute_result"
    }
   ],
   "source": [
    "project_hash_to_buckets(test_unsigned_hash, bitarray_length)"
   ]
  },
  {
   "cell_type": "markdown",
   "metadata": {},
   "source": [
    "Затем напишем функцию для генерации нескольких результатов хэш функций. Для простоты не будем сохранять сид функции, а просто сделаем его из range'а. Так что фактически сид будет каждый раз генерироваться заново, но зато не придётся выделять память под ещё одну структуру для хранения сидов. Возможно умнее было бы иметь рандомизированый сид, но мне как-то не хочется."
   ]
  },
  {
   "cell_type": "code",
   "execution_count": 14,
   "metadata": {},
   "outputs": [],
   "source": [
    "def get_multiple_hashes(hash_count, string_to_hash):\n",
    "    hashes = []\n",
    "    for seed in range(hash_count):\n",
    "        hashes.append(mmh3.hash(string_to_hash, seed, signed=False))\n",
    "    return hashes"
   ]
  },
  {
   "cell_type": "markdown",
   "metadata": {},
   "source": [
    "Проверим."
   ]
  },
  {
   "cell_type": "code",
   "execution_count": 15,
   "metadata": {},
   "outputs": [
    {
     "data": {
      "text/plain": [
       "[4138058784, 884891506, 546078562, 2419143978]"
      ]
     },
     "execution_count": 15,
     "metadata": {},
     "output_type": "execute_result"
    }
   ],
   "source": [
    "get_multiple_hashes(hash_count, TEST_STRING)"
   ]
  },
  {
   "cell_type": "markdown",
   "metadata": {},
   "source": [
    "Теперь напишем функцию, которая объединит предыдущие."
   ]
  },
  {
   "cell_type": "code",
   "execution_count": 16,
   "metadata": {},
   "outputs": [],
   "source": [
    "def get_multiple_hash_buckets(hash_count, string_to_hash, bucket_count):\n",
    "    hashes = get_multiple_hashes(hash_count, string_to_hash)\n",
    "    hash_buckets = [project_hash_to_buckets(hash_result, bucket_count)for hash_result in hashes]\n",
    "    return hash_buckets"
   ]
  },
  {
   "cell_type": "markdown",
   "metadata": {},
   "source": [
    "Проверим, правильно ли работает."
   ]
  },
  {
   "cell_type": "code",
   "execution_count": 17,
   "metadata": {},
   "outputs": [
    {
     "data": {
      "text/plain": [
       "[59, 12, 7, 34]"
      ]
     },
     "execution_count": 17,
     "metadata": {},
     "output_type": "execute_result"
    }
   ],
   "source": [
    "get_multiple_hash_buckets(hash_count, TEST_STRING, bitarray_length)"
   ]
  },
  {
   "cell_type": "markdown",
   "metadata": {},
   "source": [
    "Теперь нужно начать реализовывать собственно операцию добавления в блум фильтр. Думаю, что умнее было бы реализовывать их через побитовые операции, но как-то не захотелось -- я не гонюсь за скоростью особо."
   ]
  },
  {
   "cell_type": "code",
   "execution_count": 18,
   "metadata": {},
   "outputs": [],
   "source": [
    "def add(bit_array, string):\n",
    "    hash_buckets = get_multiple_hash_buckets(hash_count, string, bitarray_length)\n",
    "    for hash_bucket in hash_buckets:\n",
    "        bit_array[hash_bucket] = True\n",
    "    return bit_array"
   ]
  },
  {
   "cell_type": "markdown",
   "metadata": {},
   "source": [
    "Проверим"
   ]
  },
  {
   "cell_type": "code",
   "execution_count": 19,
   "metadata": {},
   "outputs": [
    {
     "data": {
      "text/plain": [
       "bitarray('00000001000010000000000000000000001000000000000000000000000100')"
      ]
     },
     "execution_count": 19,
     "metadata": {},
     "output_type": "execute_result"
    }
   ],
   "source": [
    "add(bit_array_test, TEST_STRING)"
   ]
  },
  {
   "cell_type": "markdown",
   "metadata": {},
   "source": [
    "Ну и следовательно в таком же стиле реализуем операцию query."
   ]
  },
  {
   "cell_type": "code",
   "execution_count": 20,
   "metadata": {},
   "outputs": [],
   "source": [
    "def query(bit_array, string):\n",
    "    hash_buckets = get_multiple_hash_buckets(hash_count, string, bitarray_length)\n",
    "    for hash_bucket in hash_buckets:\n",
    "        if not bit_array[hash_bucket]:\n",
    "            return False\n",
    "    return True"
   ]
  },
  {
   "cell_type": "markdown",
   "metadata": {},
   "source": [
    "Проверим!"
   ]
  },
  {
   "cell_type": "code",
   "execution_count": 21,
   "metadata": {},
   "outputs": [
    {
     "data": {
      "text/plain": [
       "True"
      ]
     },
     "execution_count": 21,
     "metadata": {},
     "output_type": "execute_result"
    }
   ],
   "source": [
    "query(bit_array_test, TEST_STRING)"
   ]
  },
  {
   "cell_type": "code",
   "execution_count": 22,
   "metadata": {},
   "outputs": [
    {
     "data": {
      "text/plain": [
       "False"
      ]
     },
     "execution_count": 22,
     "metadata": {},
     "output_type": "execute_result"
    }
   ],
   "source": [
    "query(bit_array_test, TEST_STRING+'a')"
   ]
  },
  {
   "cell_type": "markdown",
   "metadata": {},
   "source": [
    "Отлично. Теперь можно начать всю конструкцию запаковывать в блум фильтр."
   ]
  },
  {
   "cell_type": "code",
   "execution_count": 23,
   "metadata": {},
   "outputs": [],
   "source": [
    "class BloomFilter:\n",
    "    \n",
    "    def __init__(self, objects_count, false_positive_rate):\n",
    "        self.objects_count = objects_count\n",
    "        self.false_positive_rate = false_positive_rate\n",
    "        \n",
    "        self.bitarray_length = int(( 1 / (math.pow(math.log(2),2)) ) * self.objects_count * (math.log(1 / self.false_positive_rate)))\n",
    "        self.hash_count = int((self.bitarray_length / self.objects_count) * math.log(2))\n",
    "        \n",
    "        self.bitarray_data = bitarray.bitarray(self.bitarray_length)\n",
    "        self.bitarray_data.setall(False)\n",
    "    \n",
    "    def _project_hash_to_buckets(self, hash_result):\n",
    "        percentage = hash_result / float(2**32)\n",
    "        for bucket in range (0,  self.bitarray_length):\n",
    "            if bucket / float(self.bitarray_length) <= percentage and (bucket+1) / float(self.bitarray_length) > percentage:\n",
    "                return bucket\n",
    "        return self.bitarray_length\n",
    "    \n",
    "    def _get_multiple_hashes(self, string_to_hash):\n",
    "        hashes = []\n",
    "        for seed in range(self.hash_count):\n",
    "            hashes.append(mmh3.hash(string_to_hash, seed, signed=False))\n",
    "        return hashes\n",
    "    \n",
    "    def _get_multiple_hash_buckets(self, string_to_hash):\n",
    "        hashes = self._get_multiple_hashes(string_to_hash)\n",
    "        hash_buckets = [self._project_hash_to_buckets(hash_result)for hash_result in hashes]\n",
    "        return hash_buckets\n",
    "    \n",
    "    def insert(self, string):\n",
    "        hash_buckets = self._get_multiple_hash_buckets(string)\n",
    "        for hash_bucket in hash_buckets:\n",
    "            self.bitarray_data[hash_bucket] = True\n",
    "\n",
    "    def lookup(self, string):\n",
    "        hash_buckets = self._get_multiple_hash_buckets(string)\n",
    "        for hash_bucket in hash_buckets:\n",
    "            if not self.bitarray_data[hash_bucket]:\n",
    "                return False\n",
    "        return True\n",
    "    "
   ]
  },
  {
   "cell_type": "markdown",
   "metadata": {},
   "source": [
    "Протестируем функционал."
   ]
  },
  {
   "cell_type": "code",
   "execution_count": 24,
   "metadata": {},
   "outputs": [
    {
     "data": {
      "text/plain": [
       "(True,\n",
       " bitarray('00000001000010000000000000000000001000000000000000000000000100'))"
      ]
     },
     "execution_count": 24,
     "metadata": {},
     "output_type": "execute_result"
    }
   ],
   "source": [
    "test_bloom = BloomFilter(OBJECTS_COUNT, FALSE_POSITIVE_RATE)\n",
    "test_bloom.insert(TEST_STRING)\n",
    "test_bloom.lookup(TEST_STRING), test_bloom.bitarray_data"
   ]
  },
  {
   "cell_type": "markdown",
   "metadata": {},
   "source": [
    " Для генерации рандомных строк импортируем библиотеку uuid."
   ]
  },
  {
   "cell_type": "code",
   "execution_count": 45,
   "metadata": {},
   "outputs": [],
   "source": [
    "import uuid"
   ]
  },
  {
   "cell_type": "markdown",
   "metadata": {},
   "source": [
    "Теперь создадим функцию, генерирующую рандомные объекты, для тестирования."
   ]
  },
  {
   "cell_type": "code",
   "execution_count": 46,
   "metadata": {},
   "outputs": [],
   "source": [
    "def generate_random_sequences(count):\n",
    "    sequences = []\n",
    "    for i in range(count):\n",
    "        sequences.append(str(uuid.uuid4())[:8])\n",
    "    return sequences"
   ]
  },
  {
   "cell_type": "markdown",
   "metadata": {},
   "source": [
    "Протестируем же её."
   ]
  },
  {
   "cell_type": "code",
   "execution_count": 47,
   "metadata": {},
   "outputs": [
    {
     "data": {
      "text/plain": [
       "['24daa4fd',\n",
       " 'd98e9737',\n",
       " 'd0f803a9',\n",
       " '54314639',\n",
       " '1683b0f4',\n",
       " '52da1c80',\n",
       " '49778c7b',\n",
       " 'c2e8ca3c',\n",
       " '7fd88c9d',\n",
       " 'e49a5420']"
      ]
     },
     "execution_count": 47,
     "metadata": {},
     "output_type": "execute_result"
    }
   ],
   "source": [
    "generate_random_sequences(10)"
   ]
  },
  {
   "cell_type": "markdown",
   "metadata": {},
   "source": [
    "Отлично, теперь задизайним тест false positive rate'а. Сгенерируем два набора уникальных строк."
   ]
  },
  {
   "cell_type": "code",
   "execution_count": 48,
   "metadata": {},
   "outputs": [],
   "source": [
    "COUNT = 1000\n",
    "\n",
    "random_train = generate_random_sequences(COUNT)\n",
    "random_test = generate_random_sequences(COUNT)"
   ]
  },
  {
   "cell_type": "markdown",
   "metadata": {},
   "source": [
    "Инциализируем фильтр, и наполним его первым набором."
   ]
  },
  {
   "cell_type": "code",
   "execution_count": 49,
   "metadata": {},
   "outputs": [],
   "source": [
    "bloom_filter = BloomFilter(COUNT, FALSE_POSITIVE_RATE)\n",
    "\n",
    "for sequence in random_train:\n",
    "    bloom_filter.insert(sequence)"
   ]
  },
  {
   "cell_type": "markdown",
   "metadata": {},
   "source": [
    "Проверим, сколько строк из второго набора найдётся в нашем фильтре."
   ]
  },
  {
   "cell_type": "code",
   "execution_count": 50,
   "metadata": {},
   "outputs": [
    {
     "data": {
      "text/plain": [
       "59"
      ]
     },
     "execution_count": 50,
     "metadata": {},
     "output_type": "execute_result"
    }
   ],
   "source": [
    "hits = []\n",
    "\n",
    "for sequence in random_test:\n",
    "    hits.append(bloom_filter.lookup(sequence))\n",
    "\n",
    "sum(hits)"
   ]
  },
  {
   "cell_type": "markdown",
   "metadata": {},
   "source": [
    "К сожалению, оказалось что всё работает крайне медленно -- видимо придётся переделывать на побитовые операции."
   ]
  },
  {
   "cell_type": "markdown",
   "metadata": {},
   "source": [
    "Напомню, как выглядит моя функция для заполнения."
   ]
  },
  {
   "cell_type": "code",
   "execution_count": 51,
   "metadata": {},
   "outputs": [],
   "source": [
    "def add(bit_array, string):\n",
    "    hash_buckets = get_multiple_hash_buckets(hash_count, string, bitarray_length)\n",
    "    for hash_bucket in hash_buckets:\n",
    "        bit_array[hash_bucket] = True\n",
    "    return bit_array"
   ]
  },
  {
   "cell_type": "markdown",
   "metadata": {},
   "source": [
    "Хотя сначала проверю, может это хэш виноват?"
   ]
  },
  {
   "cell_type": "code",
   "execution_count": 52,
   "metadata": {},
   "outputs": [],
   "source": [
    "COUNT = 1000000\n",
    "\n",
    "random_sequences = generate_random_sequences(COUNT)"
   ]
  },
  {
   "cell_type": "code",
   "execution_count": 53,
   "metadata": {},
   "outputs": [
    {
     "name": "stdout",
     "output_type": "stream",
     "text": [
      "Wall time: 345 ms\n"
     ]
    }
   ],
   "source": [
    "%%time\n",
    "\n",
    "for sequence in random_sequences:\n",
    "    mmh3.hash(sequence, 42, signed=False)"
   ]
  },
  {
   "cell_type": "markdown",
   "metadata": {},
   "source": [
    "Тогда проверю функцию add"
   ]
  },
  {
   "cell_type": "code",
   "execution_count": 54,
   "metadata": {},
   "outputs": [],
   "source": [
    "OBJECTS_COUNT = 2000\n",
    "FALSE_POSITIVE_RATE = 0.05\n",
    "\n",
    "\n",
    "bitarray_length = int(( 1 / (math.pow(math.log(2),2)) ) * OBJECTS_COUNT * (math.log(1 / FALSE_POSITIVE_RATE)))\n",
    "hash_count = int((bitarray_length / OBJECTS_COUNT) * math.log(2))"
   ]
  },
  {
   "cell_type": "code",
   "execution_count": 55,
   "metadata": {},
   "outputs": [],
   "source": [
    "test_bit_array = bitarray.bitarray(bitarray_length)\n",
    "test_bit_array.setall(False)\n",
    "\n",
    "\n",
    "random_sequences = generate_random_sequences(OBJECTS_COUNT)"
   ]
  },
  {
   "cell_type": "code",
   "execution_count": 56,
   "metadata": {},
   "outputs": [
    {
     "name": "stdout",
     "output_type": "stream",
     "text": [
      "Wall time: 16.3 s\n"
     ]
    }
   ],
   "source": [
    "%%time\n",
    "\n",
    "for sequence in random_sequences:\n",
    "    add(test_bit_array, sequence)"
   ]
  },
  {
   "cell_type": "markdown",
   "metadata": {},
   "source": [
    "Можно увидеть, что уже для 2000 объектов время -- 16 секунд!"
   ]
  },
  {
   "cell_type": "markdown",
   "metadata": {},
   "source": [
    "Поэтому очевидно надо менять алгоритм функции add."
   ]
  },
  {
   "cell_type": "markdown",
   "metadata": {},
   "source": [
    "Экспериментально было выяснено, что проблема в проекции хэша на интервал -- я решил использовать нампи для быстрого решения задачи поиска нужного бакета.\n",
    "\n",
    "Напомню, как выглядит функция проекции хэша на интервал."
   ]
  },
  {
   "cell_type": "code",
   "execution_count": 57,
   "metadata": {},
   "outputs": [],
   "source": [
    "def project_hash_to_buckets(hash_result, bucket_count):\n",
    "    percentage = hash_result / float(2**32)\n",
    "    for bucket in range (0,  bucket_count):\n",
    "        if bucket / float(bucket_count) <= percentage and (bucket+1) / float(bucket_count) > percentage:\n",
    "            return bucket\n",
    "    return bucket_count"
   ]
  },
  {
   "cell_type": "code",
   "execution_count": 58,
   "metadata": {},
   "outputs": [
    {
     "data": {
      "text/plain": [
       "12014"
      ]
     },
     "execution_count": 58,
     "metadata": {},
     "output_type": "execute_result"
    }
   ],
   "source": [
    "project_hash_to_buckets(test_unsigned_hash, bitarray_length)"
   ]
  },
  {
   "cell_type": "markdown",
   "metadata": {},
   "source": [
    "Импортирую библиотеку нампи."
   ]
  },
  {
   "cell_type": "code",
   "execution_count": 59,
   "metadata": {},
   "outputs": [],
   "source": [
    "import numpy as np"
   ]
  },
  {
   "cell_type": "markdown",
   "metadata": {},
   "source": [
    "Создаю новый векторизованный алгоритм."
   ]
  },
  {
   "cell_type": "code",
   "execution_count": 60,
   "metadata": {},
   "outputs": [],
   "source": [
    "def project_hash_to_buckets_vectorized(hash_result, bucket_count):\n",
    "    percentage = hash_result / float(2**32)\n",
    "    buckets = np.arange(bucket_count)\n",
    "    buckets_percentages = buckets/bucket_count\n",
    "    closest_bucket_idx = (np.abs(buckets_percentages / percentage - 1)).argmin()\n",
    "    return buckets[closest_bucket_idx]"
   ]
  },
  {
   "cell_type": "markdown",
   "metadata": {},
   "source": [
    "Проверим его."
   ]
  },
  {
   "cell_type": "code",
   "execution_count": 61,
   "metadata": {},
   "outputs": [
    {
     "data": {
      "text/plain": [
       "12014"
      ]
     },
     "execution_count": 61,
     "metadata": {},
     "output_type": "execute_result"
    }
   ],
   "source": [
    "project_hash_to_buckets_vectorized(test_unsigned_hash, bitarray_length)"
   ]
  },
  {
   "cell_type": "markdown",
   "metadata": {},
   "source": [
    "Теперь проверим намного ли он быстрее"
   ]
  },
  {
   "cell_type": "code",
   "execution_count": 68,
   "metadata": {},
   "outputs": [],
   "source": [
    "OBJECTS_COUNT = 1000\n",
    "FALSE_POSITIVE_RATE = 0.05\n",
    "\n",
    "\n",
    "bitarray_length = int(( 1 / (math.pow(math.log(2),2)) ) * OBJECTS_COUNT * (math.log(1 / FALSE_POSITIVE_RATE)))\n",
    "hash_count = int((bitarray_length / OBJECTS_COUNT) * math.log(2))\n",
    "\n",
    "random_sequences = generate_random_sequences(OBJECTS_COUNT)\n",
    "\n",
    "hashes = []\n",
    "for sequence in random_sequences:\n",
    "    hashes.append(mmh3.hash(sequence, 42, signed=False))\n",
    "    \n",
    "    "
   ]
  },
  {
   "cell_type": "code",
   "execution_count": 69,
   "metadata": {},
   "outputs": [
    {
     "name": "stdout",
     "output_type": "stream",
     "text": [
      "Wall time: 1.01 s\n"
     ]
    }
   ],
   "source": [
    "%%time\n",
    "\n",
    "for hash_string in hashes:\n",
    "    project_hash_to_buckets(hash_string, bitarray_length)"
   ]
  },
  {
   "cell_type": "markdown",
   "metadata": {},
   "source": [
    "Достаточно. Теперь заменим алгоритм в классе блум фильтра"
   ]
  },
  {
   "cell_type": "code",
   "execution_count": 70,
   "metadata": {},
   "outputs": [],
   "source": [
    "class BloomFilter:\n",
    "    \n",
    "    def __init__(self, objects_count, false_positive_rate):\n",
    "        self.objects_count = objects_count\n",
    "        self.false_positive_rate = false_positive_rate\n",
    "        \n",
    "        self.bitarray_length = int(( 1 / (math.pow(math.log(2),2)) ) * self.objects_count * (math.log(1 / self.false_positive_rate)))\n",
    "        self.hash_count = int((self.bitarray_length / self.objects_count) * math.log(2))\n",
    "        \n",
    "        self.bitarray_data = bitarray.bitarray(self.bitarray_length)\n",
    "        self.bitarray_data.setall(False)\n",
    "    \n",
    "    def _project_hash_to_buckets(self, hash_result):\n",
    "        percentage = hash_result / float(2**32)\n",
    "        buckets = np.arange(self.bitarray_length)\n",
    "        buckets_percentages = buckets/self.bitarray_length\n",
    "        closest_bucket_idx = (np.abs(buckets_percentages / percentage - 1)).argmin()\n",
    "        return buckets[closest_bucket_idx]    \n",
    "    \n",
    "    def _get_multiple_hashes(self, string_to_hash):\n",
    "        hashes = []\n",
    "        for seed in range(self.hash_count):\n",
    "            hashes.append(mmh3.hash(string_to_hash, seed, signed=False))\n",
    "        return hashes\n",
    "    \n",
    "    def _get_multiple_hash_buckets(self, string_to_hash):\n",
    "        hashes = self._get_multiple_hashes(string_to_hash)\n",
    "        hash_buckets = [self._project_hash_to_buckets(hash_result)for hash_result in hashes]\n",
    "        return hash_buckets\n",
    "    \n",
    "    def insert(self, string):\n",
    "        hash_buckets = self._get_multiple_hash_buckets(string)\n",
    "        for hash_bucket in hash_buckets:\n",
    "            self.bitarray_data[hash_bucket] = True\n",
    "\n",
    "    def lookup(self, string):\n",
    "        hash_buckets = self._get_multiple_hash_buckets(string)\n",
    "        for hash_bucket in hash_buckets:\n",
    "            if not self.bitarray_data[hash_bucket]:\n",
    "                return False\n",
    "        return True"
   ]
  },
  {
   "cell_type": "markdown",
   "metadata": {},
   "source": [
    "Протестируем его"
   ]
  },
  {
   "cell_type": "code",
   "execution_count": 71,
   "metadata": {},
   "outputs": [
    {
     "data": {
      "text/plain": [
       "(True,\n",
       " bitarray('00000000100001000000000000000000000100000000000000000000000010'))"
      ]
     },
     "execution_count": 71,
     "metadata": {},
     "output_type": "execute_result"
    }
   ],
   "source": [
    "OBJECTS_COUNT = 10\n",
    "\n",
    "test_bloom = BloomFilter(OBJECTS_COUNT, FALSE_POSITIVE_RATE)\n",
    "test_bloom.insert(TEST_STRING)\n",
    "test_bloom.lookup(TEST_STRING), test_bloom.bitarray_data"
   ]
  },
  {
   "cell_type": "code",
   "execution_count": 72,
   "metadata": {},
   "outputs": [],
   "source": [
    "TEST_COUNT = 1000000\n",
    "\n",
    "random_train = generate_random_sequences(TEST_COUNT)\n",
    "random_test = generate_random_sequences(TEST_COUNT)"
   ]
  },
  {
   "cell_type": "code",
   "execution_count": null,
   "metadata": {},
   "outputs": [],
   "source": [
    "%%time\n",
    "bloom_filter = BloomFilter(TEST_COUNT, FALSE_POSITIVE_RATE)\n",
    "\n",
    "for sequence in random_train:\n",
    "    bloom_filter.insert(sequence)"
   ]
  },
  {
   "cell_type": "code",
   "execution_count": null,
   "metadata": {},
   "outputs": [],
   "source": [
    "hits = []\n",
    "\n",
    "for sequence in random_test:\n",
    "    hits.append(bloom_filter.lookup(sequence))\n",
    "\n",
    "sum(hits)"
   ]
  }
 ],
 "metadata": {
  "kernelspec": {
   "display_name": "Python 3",
   "language": "python",
   "name": "python3"
  },
  "language_info": {
   "codemirror_mode": {
    "name": "ipython",
    "version": 3
   },
   "file_extension": ".py",
   "mimetype": "text/x-python",
   "name": "python",
   "nbconvert_exporter": "python",
   "pygments_lexer": "ipython3",
   "version": "3.7.2"
  },
  "widgets": {
   "state": {},
   "version": "1.1.2"
  }
 },
 "nbformat": 4,
 "nbformat_minor": 2
}
